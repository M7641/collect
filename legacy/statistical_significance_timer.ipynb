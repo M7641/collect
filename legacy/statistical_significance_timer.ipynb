{
 "cells": [
  {
   "cell_type": "code",
   "execution_count": null,
   "metadata": {},
   "outputs": [],
   "source": [
    "def lambda_for_normal_A(n,theta_0, sigma_0, theta_a, sigma_a):\n",
    "    '''\n",
    "    n = sample size,\n",
    "    theta_0 = mean of the null hypthesis,\n",
    "    sigma_0 = variance of the null hypothesis,\n",
    "    theta_a = mean of the sample,\n",
    "    sigma_a = varaince of the sample.\n",
    "    This test is working under asumption that the null data is normally distributed around the null mean and the \n",
    "    alternative hypothesis is distributed as normal as well. \n",
    "    '''\n",
    "    fraction = (np.sqrt(sigma_a/(sigma_a + n*sigma_0)))\n",
    "    result = fraction*np.exp(((n**2)*sigma_0*((theta_a - theta_0)**2))/(2*sigma_a*(sigma_a + (n*sigma_0))))\n",
    "    return result\n",
    "\n",
    "def lambda_for_normal_AB(n,theta_0, sigma_0, theta_AB, sigma_AB):\n",
    "    '''\n",
    "    n = sample size,\n",
    "    theta_0 = mean of the null hypthesis,\n",
    "    sigma_0 = variance of the null hypothesis,\n",
    "    theta_AB = mean of the difference between test A and test B.\n",
    "    sigma_AB = varaince of the difference between test A and test B.\n",
    "    This test is working under asumption that the null data is normally distributed around the null mean and the \n",
    "    alternative hypothesis is distributed as normal as well. \n",
    "    '''\n",
    "    fraction = (np.sqrt((2*sigma_AB) / (2*sigma_AB + n*sigma_0)))\n",
    "    result = fraction*np.exp(((n**2)*sigma_0*((theta_AB - theta_0)**2))/(4*sigma_AB*(2*sigma_AB + (n*sigma_0))))\n",
    "    return result\n",
    "\n",
    "\n",
    "def lambda_for_binary(n,theta_0, sigma_0, theta_A):\n",
    "    '''\n",
    "    n = sample size,\n",
    "    theta_0 = mean of the null hypthesis,\n",
    "    sigma_0 = variance of the null hypothesis,\n",
    "    theta_A = mean of the test A sample,\n",
    "    asymptotically distributed as N(theta, V/n) hence it is simple to evaluate the mSPRT.\n",
    "    '''\n",
    "    V = (theta_A*(1 - theta_A)) #The variance\n",
    "    fraction = np.sqrt((V) / (V + (n*sigma_0)))\n",
    "    result = fraction*np.exp(((n**2)*sigma_0*((theta_A - theta_0)**2))/(2*V*(V + (n*sigma_0))))\n",
    "    return result\n",
    "\n",
    "def valid_p_values(p,result):\n",
    "    '''p is the list of previous p values and result is a float. New list of P values is returned'''\n",
    "    if np.array(p).min() > (1/result):\n",
    "        p.append(1/result)\n",
    "    else:\n",
    "        pass\n",
    "    return p"
   ]
  },
  {
   "cell_type": "markdown",
   "metadata": {},
   "source": [
    "# working example:"
   ]
  },
  {
   "cell_type": "markdown",
   "metadata": {},
   "source": [
    "To do:\n",
    "- improve the prior by either using a more appropriate distribution or using an infinitley weak prior\n",
    "- More intelligent parameter approximation"
   ]
  },
  {
   "cell_type": "code",
   "execution_count": null,
   "metadata": {},
   "outputs": [],
   "source": [
    "storage = dict()\n",
    "regions_other = dict()\n",
    "regions_base = dict()\n",
    "for variant in experiment.variants:\n",
    "    samples = np.array([int(len(dfA['s_converted'])),int(len(dfB['s_converted']))]).min()\n",
    "    step = 1000\n",
    "    size = int(np.ceil(samples / step))\n",
    "    result = np.zeros(size)\n",
    "    pval = [1]\n",
    "    x = dataframe1['s_total_margin']\n",
    "    y = dataframe2['s_total_margin']\n",
    "    X = [x[0:1000].mean()]\n",
    "    Y = [y[0:1000].mean()]\n",
    "    i = 0\n",
    "    n = 1000\n",
    "    while i <= 99:\n",
    "        n += 1000\n",
    "        i += 1 \n",
    "        X.append(x[(n):(n+1000)].mean())\n",
    "        Y.append(y[(n):(n+1000)].mean())\n",
    "        theta_0 = np.mean(X)\n",
    "        sigma_0 = np.var(X)\n",
    "        theta_a = np.mean(Y)\n",
    "        sigma_a = np.var(Y)\n",
    "        result[int(n/step)] = lambda_for_normal_A(int(n/step),theta_0, sigma_0, theta_a, sigma_a)\n",
    "        pval = valid_p_values(pval,result[int(n/step)])\n",
    "        storage[f'{experiment.id_}: A compared with {variant}'] = (n,i,np.array(pval).min())\n",
    "        if np.array(pval).min() < 0.05:"
   ]
  },
  {
   "cell_type": "markdown",
   "metadata": {},
   "source": [
    "To veiw the results in a more understanable way, from here you can plot what ever you wish."
   ]
  },
  {
   "cell_type": "code",
   "execution_count": null,
   "metadata": {},
   "outputs": [],
   "source": [
    "dff = pd.DataFrame();dff['res'] = result;dff['SS'] = 1 - pval;dff['maxSS'] = dff['SS'].max();dff['const'] = 0.95\n",
    "dff.tail()"
   ]
  }
 ],
 "metadata": {
  "kernelspec": {
   "display_name": "Python 3",
   "language": "python",
   "name": "python3"
  },
  "language_info": {
   "codemirror_mode": {
    "name": "ipython",
    "version": 3
   },
   "file_extension": ".py",
   "mimetype": "text/x-python",
   "name": "python",
   "nbconvert_exporter": "python",
   "pygments_lexer": "ipython3",
   "version": "3.7.3"
  }
 },
 "nbformat": 4,
 "nbformat_minor": 2
}
